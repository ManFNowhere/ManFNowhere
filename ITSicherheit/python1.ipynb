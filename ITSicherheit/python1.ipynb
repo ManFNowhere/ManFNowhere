{
 "cells": [
  {
   "cell_type": "markdown",
   "id": "9bb79e6d-cd37-4102-8955-7d803d2500c3",
   "metadata": {},
   "source": [
    "# Python 1\n",
    "\n",
    "Lernziele:\n",
    "\n",
    "- Grundlegende Syntax\n",
    "- Kontrollstrukturen\n",
    "- Variablen\n",
    "\n",
    "Dieses Notebook soll durch Demonstration in die Sprache einführen. Die Idee dabei ist, dass mit den unterschiedlichen Code-Blöcken \"gespielt\" werden kann."
   ]
  },
  {
   "cell_type": "markdown",
   "id": "ab8b202f-cf3d-4d03-9761-7c9df008460a",
   "metadata": {},
   "source": [
    "## Verzweigung\n",
    "\n",
    "Python definiert Code-Blöcke durch Einrückung. Das ist das gleiche was in anderen Sprachen häufig die geschweiften Klammern erzeugen ```{Block}'''."
   ]
  },
  {
   "cell_type": "markdown",
   "id": "39b5ab7d-08a2-4e1f-a205-44874ae1a1ea",
   "metadata": {},
   "source": [
    "Die syntaktische Grundstruktur für Verzweigungen, Schleifen, Klassen und Blöcke ist immer gleich:\n",
    "\n",
    "```\n",
    "<Schlüsselwort> [Bedingung] :\n",
    "     <eingerückter Block>\n",
    "\n",
    "Dabei ist es wichtig, dass die Einrückungstiefe immer gleich ist.\n",
    "\n",
    "Das lässt sich vielleicht am einfachsten an einer Verzweigung erläutern. Eine Verzweigung wird durch das Schlüsselwort ```if``` eingeleitet"
   ]
  },
  {
   "cell_type": "code",
   "execution_count": null,
   "id": "39d8ffad-cb3c-4cda-94b5-1ffea49e2b2e",
   "metadata": {},
   "outputs": [],
   "source": [
    "print(\"Verzweigung\")\n",
    "if 1 == 2:\n",
    "    print(\"If-Block\")\n",
    "print(\"Nach dem Block\")"
   ]
  },
  {
   "cell_type": "code",
   "execution_count": null,
   "id": "d823d494-4866-40a1-ac7f-4578361dfc54",
   "metadata": {},
   "outputs": [],
   "source": [
    "print(\"Verzweigung\")\n",
    "if 1 == 2:\n",
    "    print(\"If-Block\")\n",
    "else:\n",
    "    print(\"Else-Block\")\n",
    "print(\"ausserhalb Block\")"
   ]
  },
  {
   "cell_type": "markdown",
   "id": "f1e8526f-8d63-47d1-a448-46ef2fd7ddd3",
   "metadata": {},
   "source": [
    "**Aufgabe**: Probiert jetzt ein wenig mit \"falschen\" Einrückungen herum."
   ]
  },
  {
   "cell_type": "markdown",
   "id": "b9211bf7-9a3c-41a4-8bc0-357d5275897b",
   "metadata": {},
   "source": [
    "## Schleifen\n",
    "\n",
    "Schleifen nutzen die gleiche syntaktische Struktur wie Verzweigungen. Für eine Schleife mit boolscher Bedingung ist das Schlüsselwort ```while```.\n",
    "\n",
    "Wir lernen auch gleich einfache Variablen und Zuweisungen kennen. Eine Variable wird erzeugt indem einem Bezeichner ein Wert zugewiesen wird. Die Zuweisung erfolgt mittels:\n",
    "\n",
    "```\n",
    "<var> = <Wert>\n",
    "```"
   ]
  },
  {
   "cell_type": "code",
   "execution_count": null,
   "id": "d4e115f0-d769-4330-a694-35717e9d1117",
   "metadata": {},
   "outputs": [],
   "source": [
    "runner = True\n",
    "while runner:\n",
    "    print(\"Running\")\n",
    "    runner = False\n",
    "print(\"stopped\")"
   ]
  },
  {
   "cell_type": "code",
   "execution_count": null,
   "id": "6fda77e1-ffba-478e-a593-d1046c46fc70",
   "metadata": {},
   "outputs": [],
   "source": [
    "for i in {1,2,3,4,5}:\n",
    "    print(i)"
   ]
  },
  {
   "cell_type": "markdown",
   "id": "4c68f919-f8f7-4f99-8ebb-213efe479023",
   "metadata": {},
   "source": [
    "## Listen und Dictionaires\n",
    "\n"
   ]
  },
  {
   "cell_type": "code",
   "execution_count": null,
   "id": "213b8f6a-03cc-4131-a569-a0b494925882",
   "metadata": {},
   "outputs": [],
   "source": [
    "liste = [0,1,2,3,4,5]\n",
    "print(f\"drittes Feld: {liste[3]}\")\n",
    "print(f\"Zahlen > 3 {liste[4:]}\")\n",
    "\n",
    "dictionaire = {\"vier\": 4, \"sechs\": 6, \"tausend\": 1000}\n",
    "print(f'sechs: {dictionaire[\"sechs\"]}')"
   ]
  },
  {
   "cell_type": "markdown",
   "id": "bbee96d7-141f-423b-965e-8c597ae9081c",
   "metadata": {},
   "source": [
    "### Aufgabe\n",
    "\n",
    "1. Schaue dir die Listenoperationen auf [W3 Schools](https://www.w3schools.com/python/python_ref_list.asp) an und erzeuge in einer Schleife eine Liste aller Quadratzahlen von 1 bis 100.\n",
    "\n",
    "2. Recherchiere und beschreibe den Unterschied zwischen Mengen (set) und Listen in Python.\n",
    "3. Finde heraus mit welchen Funktionen du alle Werte im obigen Dictionaire ```dictionaira``` ausgeben kannst und bilde die Summe der Werte."
   ]
  },
  {
   "cell_type": "code",
   "execution_count": null,
   "id": "fd34e09c-4c3d-49c7-b1d9-6a2d2b7e51d2",
   "metadata": {},
   "outputs": [],
   "source": [
    "liste = []\n",
    "## Dein Code hier:\n",
    "for i in range(1,10):\n",
    "    liste.append(i**2)\n",
    "    print(i)\n",
    "\n",
    "if liste[7] == 8**2:\n",
    "     print(\"korrekt\")"
   ]
  },
  {
   "cell_type": "markdown",
   "id": "eebf0a7b-26b0-403b-a526-7015ffdd898a",
   "metadata": {},
   "source": [
    "### List Comprehension\n",
    "\n",
    "Listen lassen sich aber auch deutlich eleganter erzeugen. Wenn du diese Methoden noch nicht genutzt hast, dann recherchiere wie *List Comprehension* in Python funktioniert und erzeuge die Liste in einem Schritt. "
   ]
  },
  {
   "cell_type": "markdown",
   "id": "1db519a7-91c9-435b-8f27-69d4f51e7555",
   "metadata": {},
   "source": [
    "## Zeichenketten (Strings)"
   ]
  },
  {
   "cell_type": "code",
   "execution_count": null,
   "id": "b9ccf983-c572-4832-bccd-ceee1c0c4a48",
   "metadata": {},
   "outputs": [],
   "source": [
    "hello = \"Hello World!\"\n",
    "print(hello)\n",
    "\n",
    "# das funktioniert nicht, Strings sind 'immutable'\n",
    "hallo[1] = 'a' "
   ]
  },
  {
   "cell_type": "markdown",
   "id": "1af76187-6a20-4af0-96dd-ca30258fe188",
   "metadata": {
    "jp-MarkdownHeadingCollapsed": true
   },
   "source": [
    "Aber Strings lassen sich indizieren wie Listen."
   ]
  },
  {
   "cell_type": "code",
   "execution_count": null,
   "id": "99068c34-7e4b-484b-b3c2-3a3ed725afa5",
   "metadata": {},
   "outputs": [],
   "source": [
    "hallo = hello.replace('e', 'a')[:5] + ' Welt!' # auch single quotes definieren Strings\n",
    "print(hallo)"
   ]
  },
  {
   "cell_type": "markdown",
   "id": "a22236dc-325e-4877-96a9-0459a41d9691",
   "metadata": {},
   "source": [
    "## Funktionen\n"
   ]
  },
  {
   "cell_type": "code",
   "execution_count": null,
   "id": "bf3f2805-108a-4a27-8cf7-4f2548da9dc1",
   "metadata": {},
   "outputs": [],
   "source": [
    "def meine_funktion(a, b):\n",
    "    return a + b\n",
    "\n",
    "meine_funktion(2,3)"
   ]
  },
  {
   "cell_type": "markdown",
   "id": "a605f49f-5806-4158-b3d9-8020f7d64043",
   "metadata": {},
   "source": [
    "## Hausaufgabe\n",
    "\n",
    "Wie viele Schritte sind es von \"Apfel\" zu \"Birne\"\n",
    "\n"
   ]
  },
  {
   "cell_type": "code",
   "execution_count": null,
   "id": "d6d14db7-5984-4f38-aa71-79084318fd71",
   "metadata": {},
   "outputs": [],
   "source": []
  },
  {
   "cell_type": "code",
   "execution_count": null,
   "id": "41a4d339-b5c6-406d-95a2-abc26c9fc87d",
   "metadata": {
    "jp-MarkdownHeadingCollapsed": true
   },
   "outputs": [],
   "source": [
    "hallo = hello[:6]"
   ]
  },
  {
   "cell_type": "markdown",
   "id": "261ebe44-e19a-4c04-9403-33c1158d41db",
   "metadata": {},
   "source": [
    "Und es lassen sich neue Strings erzeugen."
   ]
  },
  {
   "cell_type": "code",
   "execution_count": null,
   "id": "e3032ede-8efe-4a62-9209-69ae5e598967",
   "metadata": {},
   "outputs": [],
   "source": [
    "hallo = hallo.replace('e', 'a') + 'Welt!'\n",
    "print(hallo)"
   ]
  },
  {
   "cell_type": "markdown",
   "id": "a4737e90-4641-4246-a50b-78ce9185cdfa",
   "metadata": {},
   "source": [
    "## Funktionen\n",
    "\n",
    "Sind Blöcke die mittels des Schlüsselwortes ```def``` angekündigt werden. Sie haben die folgende Form: \n",
    "\n",
    "```\n",
    "def <Funktionsname>([Argumenteliste]):\n",
    "    <Block>\n",
    "```"
   ]
  },
  {
   "cell_type": "code",
   "execution_count": null,
   "id": "05d6f964-55d4-4b52-baf6-23e865d757e5",
   "metadata": {},
   "outputs": [],
   "source": [
    "def meine_funktion(a, b):\n",
    "    return a + b"
   ]
  },
  {
   "cell_type": "markdown",
   "id": "078df393-761c-48f8-b739-4f4065043c98",
   "metadata": {},
   "source": [
    "Der Aufruf erfolg als ```<Funktionsname>([Parameter])```"
   ]
  },
  {
   "cell_type": "code",
   "execution_count": null,
   "id": "b00f0ad1-1c04-4e0a-8d0a-d22ded551433",
   "metadata": {
    "editable": true,
    "slideshow": {
     "slide_type": ""
    },
    "tags": []
   },
   "outputs": [],
   "source": [
    "meine_funktion(3, 6)"
   ]
  },
  {
   "cell_type": "markdown",
   "id": "c954630e-98f5-474f-b600-d0adb743a98e",
   "metadata": {},
   "source": [
    "Es ist auch möglich Standardwerte anzugeben."
   ]
  },
  {
   "cell_type": "code",
   "execution_count": null,
   "id": "0473e792-9498-4313-b0ae-0311c5c185a0",
   "metadata": {},
   "outputs": [],
   "source": [
    "def hallo_du(name=\"ich\"):\n",
    "    print(f\"Hallo {name}\")\n",
    "\n",
    "hallo_du()"
   ]
  },
  {
   "cell_type": "markdown",
   "id": "07ef6926-8a25-41f0-9ec4-50df8c165148",
   "metadata": {},
   "source": [
    "## Hausaufgabe\n",
    "\n",
    "Was ist der \"Abstand\" zwischen \"Apfel\" und \"Birne\"? Oder anders gefragt, wie viele Operationen auf einzelnen Buchstaben (\"löschen\", \"hinzufügen\", \"ändern\") muss ich ausführen, wenn ich eine Zeichenkette ```a``` in eine Zeichenkette ```b``` verwandeln möchte? Dieser Wert wird öfter *Edit-Distance* oder auch *Levenshtein-Distanz genannt.  "
   ]
  },
  {
   "cell_type": "code",
   "execution_count": null,
   "id": "f25aacd6-9d31-41e4-9d2a-e5516e6d197f",
   "metadata": {},
   "outputs": [],
   "source": [
    "def levenshtein(a, b):\n",
    "    m = [[ j for j in range(len(a))] for i in range(len(b))]\n",
    "    for i in range(len(b)):\n",
    "        m[i][0] = i\n",
    "    for j in range(1, len(b)):\n",
    "        for i in range(1, len(a)):\n",
    "            print(int(a[i-1] != b[j-1]))\n",
    "            replace = int(a[i-1] != b[j-1]) + m[j-1][i-1]\n",
    "            input = 1 + m[j][i-1]\n",
    "            delete = 1 + m[j-1][i]\n",
    "            edits = [replace, input, delete]\n",
    "            print(f\"{a[i-1]}, {b[j-1]}\") \n",
    "            print(edits)\n",
    "            m[j][i] = min(edits)\n",
    "    print(m)\n",
    "    return m[len(b)-1][len(a)-1]\n",
    "\n",
    "levenshtein(\"Apfel\", \"Birne\")"
   ]
  }
 ],
 "metadata": {
  "kernelspec": {
   "display_name": "Python 3 (ipykernel)",
   "language": "python",
   "name": "python3"
  },
  "language_info": {
   "codemirror_mode": {
    "name": "ipython",
    "version": 3
   },
   "file_extension": ".py",
   "mimetype": "text/x-python",
   "name": "python",
   "nbconvert_exporter": "python",
   "pygments_lexer": "ipython3",
   "version": "3.9.9"
  }
 },
 "nbformat": 4,
 "nbformat_minor": 5
}
